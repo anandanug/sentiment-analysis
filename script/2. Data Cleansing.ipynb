{
 "cells": [
  {
   "cell_type": "markdown",
   "id": "2cfd3581-9738-43cd-b421-81f9815440f8",
   "metadata": {},
   "source": [
    "# Data Cleansing\n",
    "---"
   ]
  },
  {
   "cell_type": "markdown",
   "id": "f77f495e-f7db-4039-a640-14266216be5a",
   "metadata": {},
   "source": [
    "<div class=\"alert alert-block alert-danger\">\n",
    "<b>Warning:</b> Do not change this script\n",
    "</div>"
   ]
  },
  {
   "cell_type": "code",
   "execution_count": 34,
   "id": "6f6f9a73-0889-42f2-9d08-e5cdc7c0528e",
   "metadata": {},
   "outputs": [],
   "source": [
    "import pandas as pd\n",
    "from tqdm.notebook import tqdm"
   ]
  },
  {
   "cell_type": "code",
   "execution_count": null,
   "id": "41346325-aab3-49fb-81e3-ca8faa5bb814",
   "metadata": {},
   "outputs": [],
   "source": [
    "path = \"/home/jupyter/agra/source code/sentiment analytics/\""
   ]
  },
  {
   "cell_type": "code",
   "execution_count": 35,
   "id": "6c074dd5-d697-409f-a3dd-efc113e2dfa4",
   "metadata": {},
   "outputs": [],
   "source": [
    "df = pd.read_csv(\"data/resto-scrape.csv\")"
   ]
  },
  {
   "cell_type": "code",
   "execution_count": 36,
   "id": "911a1712-5392-4b24-8e15-718333c7f7fb",
   "metadata": {},
   "outputs": [
    {
     "data": {
      "text/html": [
       "<div>\n",
       "<style scoped>\n",
       "    .dataframe tbody tr th:only-of-type {\n",
       "        vertical-align: middle;\n",
       "    }\n",
       "\n",
       "    .dataframe tbody tr th {\n",
       "        vertical-align: top;\n",
       "    }\n",
       "\n",
       "    .dataframe thead th {\n",
       "        text-align: right;\n",
       "    }\n",
       "</style>\n",
       "<table border=\"1\" class=\"dataframe\">\n",
       "  <thead>\n",
       "    <tr style=\"text-align: right;\">\n",
       "      <th></th>\n",
       "      <th>date</th>\n",
       "      <th>tweet_id</th>\n",
       "      <th>text</th>\n",
       "      <th>username</th>\n",
       "      <th>verified</th>\n",
       "      <th>followers</th>\n",
       "      <th>following</th>\n",
       "      <th>mentioned users</th>\n",
       "      <th>retweet</th>\n",
       "      <th>like</th>\n",
       "      <th>reply</th>\n",
       "      <th>media</th>\n",
       "      <th>language</th>\n",
       "      <th>location</th>\n",
       "    </tr>\n",
       "  </thead>\n",
       "  <tbody>\n",
       "    <tr>\n",
       "      <th>0</th>\n",
       "      <td>2022-12-31 23:52:16+00:00</td>\n",
       "      <td>1609336667881570306</td>\n",
       "      <td>Pickup #kopi , tetap buka meski tanggal libur ...</td>\n",
       "      <td>yussanid</td>\n",
       "      <td>False</td>\n",
       "      <td>384</td>\n",
       "      <td>424</td>\n",
       "      <td>NaN</td>\n",
       "      <td>0</td>\n",
       "      <td>0</td>\n",
       "      <td>0</td>\n",
       "      <td>NaN</td>\n",
       "      <td>in</td>\n",
       "      <td>Yogyakarta dari Ponorogo</td>\n",
       "    </tr>\n",
       "    <tr>\n",
       "      <th>1</th>\n",
       "      <td>2022-12-31 22:55:45+00:00</td>\n",
       "      <td>1609322447274377218</td>\n",
       "      <td>@tanyarlfes Part time di kopi kenangan aja ada...</td>\n",
       "      <td>indilaw6</td>\n",
       "      <td>False</td>\n",
       "      <td>211</td>\n",
       "      <td>187</td>\n",
       "      <td>[User(username='tanyarlfes', id=1371650588, di...</td>\n",
       "      <td>1</td>\n",
       "      <td>0</td>\n",
       "      <td>0</td>\n",
       "      <td>NaN</td>\n",
       "      <td>in</td>\n",
       "      <td>dimana</td>\n",
       "    </tr>\n",
       "    <tr>\n",
       "      <th>2</th>\n",
       "      <td>2022-12-31 17:50:58+00:00</td>\n",
       "      <td>1609245745131192323</td>\n",
       "      <td>aku tadi keliling\" naik motor sambil dengerin ...</td>\n",
       "      <td>mimowy</td>\n",
       "      <td>False</td>\n",
       "      <td>4</td>\n",
       "      <td>230</td>\n",
       "      <td>NaN</td>\n",
       "      <td>0</td>\n",
       "      <td>0</td>\n",
       "      <td>0</td>\n",
       "      <td>NaN</td>\n",
       "      <td>in</td>\n",
       "      <td>NaN</td>\n",
       "    </tr>\n",
       "    <tr>\n",
       "      <th>3</th>\n",
       "      <td>2022-12-31 17:12:53+00:00</td>\n",
       "      <td>1609236161129742338</td>\n",
       "      <td>wah, kopi kenangan nya sudah selesai. Makasih ...</td>\n",
       "      <td>rynthings</td>\n",
       "      <td>False</td>\n",
       "      <td>9</td>\n",
       "      <td>300</td>\n",
       "      <td>NaN</td>\n",
       "      <td>0</td>\n",
       "      <td>0</td>\n",
       "      <td>0</td>\n",
       "      <td>NaN</td>\n",
       "      <td>in</td>\n",
       "      <td>Paris, France</td>\n",
       "    </tr>\n",
       "    <tr>\n",
       "      <th>4</th>\n",
       "      <td>2022-12-31 16:20:04+00:00</td>\n",
       "      <td>1609222868226945024</td>\n",
       "      <td>Menutup tahun dengan kenangan.\\nKopi kenangan ...</td>\n",
       "      <td>answer_ksj</td>\n",
       "      <td>False</td>\n",
       "      <td>160</td>\n",
       "      <td>296</td>\n",
       "      <td>NaN</td>\n",
       "      <td>0</td>\n",
       "      <td>0</td>\n",
       "      <td>0</td>\n",
       "      <td>[Photo(previewUrl='https://pbs.twimg.com/media...</td>\n",
       "      <td>in</td>\n",
       "      <td>NaN</td>\n",
       "    </tr>\n",
       "  </tbody>\n",
       "</table>\n",
       "</div>"
      ],
      "text/plain": [
       "                        date             tweet_id  \\\n",
       "0  2022-12-31 23:52:16+00:00  1609336667881570306   \n",
       "1  2022-12-31 22:55:45+00:00  1609322447274377218   \n",
       "2  2022-12-31 17:50:58+00:00  1609245745131192323   \n",
       "3  2022-12-31 17:12:53+00:00  1609236161129742338   \n",
       "4  2022-12-31 16:20:04+00:00  1609222868226945024   \n",
       "\n",
       "                                                text    username  verified  \\\n",
       "0  Pickup #kopi , tetap buka meski tanggal libur ...    yussanid     False   \n",
       "1  @tanyarlfes Part time di kopi kenangan aja ada...    indilaw6     False   \n",
       "2  aku tadi keliling\" naik motor sambil dengerin ...      mimowy     False   \n",
       "3  wah, kopi kenangan nya sudah selesai. Makasih ...   rynthings     False   \n",
       "4  Menutup tahun dengan kenangan.\\nKopi kenangan ...  answer_ksj     False   \n",
       "\n",
       "   followers  following                                    mentioned users  \\\n",
       "0        384        424                                                NaN   \n",
       "1        211        187  [User(username='tanyarlfes', id=1371650588, di...   \n",
       "2          4        230                                                NaN   \n",
       "3          9        300                                                NaN   \n",
       "4        160        296                                                NaN   \n",
       "\n",
       "   retweet  like   reply                                              media  \\\n",
       "0        0      0      0                                                NaN   \n",
       "1        1      0      0                                                NaN   \n",
       "2        0      0      0                                                NaN   \n",
       "3        0      0      0                                                NaN   \n",
       "4        0      0      0  [Photo(previewUrl='https://pbs.twimg.com/media...   \n",
       "\n",
       "  language                  location  \n",
       "0       in  Yogyakarta dari Ponorogo  \n",
       "1       in                    dimana  \n",
       "2       in                       NaN  \n",
       "3       in             Paris, France  \n",
       "4       in                       NaN  "
      ]
     },
     "execution_count": 36,
     "metadata": {},
     "output_type": "execute_result"
    }
   ],
   "source": [
    "# head data\n",
    "df.head()"
   ]
  },
  {
   "cell_type": "markdown",
   "id": "6241db9c-4ecd-430e-8691-f7f02ce7ccd2",
   "metadata": {
    "tags": []
   },
   "source": [
    "## Remove Duplicate"
   ]
  },
  {
   "cell_type": "code",
   "execution_count": 37,
   "id": "35f60f57-2034-4ea0-ab61-3ab2bd22f1c5",
   "metadata": {},
   "outputs": [
    {
     "name": "stdout",
     "output_type": "stream",
     "text": [
      "total duplicates :  220\n"
     ]
    }
   ],
   "source": [
    "# count duplicate\n",
    "total_duplicates = df.duplicated(subset=[\"text\"]).sum()\n",
    "print(\"total duplicates : \", total_duplicates)"
   ]
  },
  {
   "cell_type": "code",
   "execution_count": 38,
   "id": "6ae5ab61-d509-422a-97f6-b9cee8774df9",
   "metadata": {},
   "outputs": [
    {
     "name": "stdout",
     "output_type": "stream",
     "text": [
      "before remove :  10002\n",
      "after remove :  9782\n"
     ]
    }
   ],
   "source": [
    "# remove duplicates\n",
    "print(\"before remove : \", len(df))\n",
    "\n",
    "df = df.drop_duplicates(subset=[\"text\"], keep=\"last\")\n",
    "\n",
    "print(\"after remove : \", len(df))"
   ]
  },
  {
   "cell_type": "markdown",
   "id": "dab78fb8-f838-4fe7-a87c-61628767d301",
   "metadata": {},
   "source": [
    "## Remove Spam"
   ]
  },
  {
   "cell_type": "code",
   "execution_count": 39,
   "id": "91a81000-19e6-420d-9c96-5982e06e8bb5",
   "metadata": {
    "tags": []
   },
   "outputs": [
    {
     "data": {
      "application/vnd.jupyter.widget-view+json": {
       "model_id": "9fc67ae4430445a79936bfc36588da79",
       "version_major": 2,
       "version_minor": 0
      },
      "text/plain": [
       "  0%|          | 0/9782 [00:00<?, ?it/s]"
      ]
     },
     "metadata": {},
     "output_type": "display_data"
    }
   ],
   "source": [
    "# check spam tweet\n",
    "idx = []\n",
    "for i in tqdm(range(df.shape[0])):\n",
    "    if i == (df.shape[0] - 1):\n",
    "        break\n",
    "    temp_a = df.iloc[i].text.split()[:7]\n",
    "    # print(df.iloc[i].text) # display text\n",
    "    temp_b = df.iloc[i+1].text.split()[:7]\n",
    "    # print(df.iloc[i+1].text) # display text\n",
    "    if temp_a == temp_b:\n",
    "        idx.append(i+1)"
   ]
  },
  {
   "cell_type": "code",
   "execution_count": 40,
   "id": "20b26ce2-8f9c-4aec-8669-3f082724fb18",
   "metadata": {},
   "outputs": [
    {
     "name": "stdout",
     "output_type": "stream",
     "text": [
      "total spam tweet :  35\n"
     ]
    }
   ],
   "source": [
    "# total spam tweet\n",
    "\n",
    "print(\"total spam tweet : \", len(idx))"
   ]
  },
  {
   "cell_type": "code",
   "execution_count": 41,
   "id": "3a0ee564-a6af-400d-9166-6d3bd0cef2d3",
   "metadata": {},
   "outputs": [],
   "source": [
    "df.to_csv(\"resto-cleaned.csv\", index=False)"
   ]
  },
  {
   "cell_type": "code",
   "execution_count": null,
   "id": "05c051cd-807c-4104-a3db-eb0ee9283838",
   "metadata": {},
   "outputs": [],
   "source": []
  }
 ],
 "metadata": {
  "kernelspec": {
   "display_name": "Python 3 (Local)",
   "language": "python",
   "name": "local-python3"
  },
  "language_info": {
   "codemirror_mode": {
    "name": "ipython",
    "version": 3
   },
   "file_extension": ".py",
   "mimetype": "text/x-python",
   "name": "python",
   "nbconvert_exporter": "python",
   "pygments_lexer": "ipython3",
   "version": "3.7.12"
  }
 },
 "nbformat": 4,
 "nbformat_minor": 5
}
